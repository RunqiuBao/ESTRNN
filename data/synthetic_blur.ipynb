{
 "cells": [
  {
   "cell_type": "code",
   "execution_count": 3,
   "metadata": {
    "collapsed": true,
    "pycharm": {
     "name": "#%%\n"
    }
   },
   "outputs": [
    {
     "name": "stdout",
     "output_type": "stream",
     "text": [
      "C001H002S0006 finish\n",
      "C001H002S0015 finish\n",
      "C001H002S0010 finish\n",
      "C001H002S0024 finish\n",
      "C001H002S0027 finish\n",
      "C001H002S0018 finish\n",
      "C001H002S0009 finish\n",
      "C001H002S0002 finish\n",
      "C001H002S0023 finish\n",
      "C001H002S0005 finish\n",
      "C001H002S0028 finish\n",
      "C001H002S0014 finish\n",
      "C001H002S0026 finish\n",
      "C001H002S0021 finish\n",
      "C001H002S0017 finish\n",
      "C001H002S0003 finish\n",
      "C001H002S0025 finish\n",
      "C001H002S0007 finish\n",
      "C001H002S0012 finish\n",
      "C001H002S0013 finish\n",
      "C001H002S0019 finish\n",
      "C001H002S0022 finish\n",
      "C001H002S0011 finish\n",
      "C001H002S0016 finish\n",
      "C001H002S0020 finish\n",
      "C001H002S0004 finish\n",
      "C001H002S0001 finish\n",
      "C001H002S0008 finish\n"
     ]
    }
   ],
   "source": [
    "import os\n",
    "from os.path import join\n",
    "import cv2\n",
    "import numpy as np\n",
    "\n",
    "path = '/home/zhong/Dataset/SynBlur'\n",
    "dirs = os.listdir(path)\n",
    "for dir in dirs:\n",
    "    dir_path = join(path, dir)\n",
    "    img_files = os.listdir(dir_path)\n",
    "    for img_file in img_files:\n",
    "        if not img_file.endswith('raw'):\n",
    "            continue\n",
    "        img_path = join(dir_path, img_file)\n",
    "        img = np.fromfile(img_path, dtype='uint8')\n",
    "        img = np.stack((img[0::3].reshape((512,512)), img[1::3].reshape((512,512)), img[2::3].reshape(512,512)), axis=-1)\n",
    "        img = img[:,:,::-1]\n",
    "        save_file = '{:08d}.png'.format(int(img_file.split('.')[0][-5:]))\n",
    "        save_path = join(dir_path, save_file)\n",
    "        cv2.imwrite(save_path, img)\n",
    "        # cv2.imshow('foo', img[:,:,:])\n",
    "        # cv2.waitKey(0)\n",
    "        # cv2.destroyAllWindows()\n",
    "    print('{} finish'.format(dir))"
   ]
  },
  {
   "cell_type": "code",
   "execution_count": 22,
   "outputs": [],
   "source": [
    "import os\n",
    "from os.path import join\n",
    "\n",
    "def syn_blur(img_paths: list) -> (np.array, np.array):\n",
    "    num_imgs = len(img_paths)\n",
    "    img_blur = cv2.imread(img_paths[0]).astype(np.float)\n",
    "    for img_path in img_paths[1:]:\n",
    "        img_blur += cv2.imread(img_path).astype(np.float)\n",
    "    img_blur /= num_imgs\n",
    "    img_blur = img_blur.astype(np.uint8)\n",
    "    img_sharp = cv2.imread(img_paths[num_imgs//2])\n",
    "    assert img_blur.dtype == img_sharp.dtype\n",
    "\n",
    "    return img_blur, img_sharp\n",
    "\n",
    "def adjust_gamma(image, gamma=1.0):\n",
    "    inv_gamma = 1.0/gamma\n",
    "    table = []\n",
    "    for i in range(256):\n",
    "        table.append(((i / 255.0) ** inv_gamma) * 255)\n",
    "    table = np.array(table).astype(\"uint8\")\n",
    "    return cv2.LUT(image, table)\n",
    "\n",
    "\n",
    "path = '/home/zhong/Dataset/SynBlur'\n",
    "dirs = os.listdir(path)\n",
    "dirs = sorted(dirs)\n",
    "ds_path = '/home/zhong/Dataset/syn_blur_30/'\n",
    "syn_frames = 65\n",
    "for dir in dirs:\n",
    "    dir_path = join(path, dir)\n",
    "    save_dir_path = join(ds_path, dir)\n",
    "    os.makedirs(save_dir_path, exist_ok=True)\n",
    "    os.makedirs(join(save_dir_path, 'Blur'), exist_ok=True)\n",
    "    os.makedirs(join(save_dir_path, 'Sharp'), exist_ok=True)\n",
    "    img_files = os.listdir(dir_path)\n",
    "    img_files = [img_file for img_file in img_files if img_file.endswith('png')]\n",
    "    img_files = sorted(img_files, key=lambda x: int(x.split('.')[0]))\n",
    "    img_files = [join(dir_path, img_file) for img_file in img_files]\n",
    "    for i in range(len(img_files)//syn_frames):\n",
    "        img_paths = img_files[i*syn_frames:(i+1)*syn_frames]\n",
    "        img_blur, img_sharp = syn_blur(img_paths)\n",
    "        img_blur, img_sharp = adjust_gamma(img_blur, gamma=2.2), adjust_gamma(img_sharp, gamma=2.2)\n",
    "        # cv2.imshow('blur', img_blur)\n",
    "        # cv2.imshow('sharp', img_sharp)\n",
    "        # cv2.waitKey(0)\n",
    "        # cv2.destroyAllWindows()\n",
    "        # break\n",
    "        cv2.imwrite(join(save_dir_path, 'Blur', '{:08d}.png'.format(i)), img_blur)\n",
    "        cv2.imwrite(join(save_dir_path, 'Sharp', '{:08d}.png'.format(i)), img_sharp)"
   ],
   "metadata": {
    "collapsed": false,
    "pycharm": {
     "name": "#%%\n"
    }
   }
  }
 ],
 "metadata": {
  "kernelspec": {
   "display_name": "Python 3",
   "language": "python",
   "name": "python3"
  },
  "language_info": {
   "codemirror_mode": {
    "name": "ipython",
    "version": 2
   },
   "file_extension": ".py",
   "mimetype": "text/x-python",
   "name": "python",
   "nbconvert_exporter": "python",
   "pygments_lexer": "ipython2",
   "version": "2.7.6"
  }
 },
 "nbformat": 4,
 "nbformat_minor": 0
}